{
 "cells": [
  {
   "cell_type": "code",
   "execution_count": 1,
   "metadata": {
    "collapsed": true
   },
   "outputs": [],
   "source": [
    "import networkx as nx\n",
    "import re\n",
    "import matplotlib.pyplot as plt\n",
    "from networkx.drawing.nx_agraph import graphviz_layout\n",
    "import os\n",
    "import numpy as np\n",
    "import pandas as pd\n",
    "from networkx.algorithms.shortest_paths.generic import shortest_path_length\n",
    "from scipy.linalg import svd\n",
    "from scipy.stats import entropy\n",
    "from scipy.misc import comb\n",
    "from itertools import product, combinations\n",
    "import multiprocessing as mp"
   ]
  },
  {
   "cell_type": "code",
   "execution_count": 2,
   "metadata": {
    "collapsed": true
   },
   "outputs": [],
   "source": [
    "def read_file(filename):\n",
    "    with open(filename, 'r') as f:\n",
    "        doc = f.read()\n",
    "        sentences = re.split('\\.|\\?|!', doc)\n",
    "    data = [];\n",
    "    for s in sentences:\n",
    "        temp = re.split('\\W+',s)\n",
    "        temp = list(filter(lambda a: a != '', temp))\n",
    "        temp = [t.lower() for t in temp]\n",
    "        data.append(temp)\n",
    "    return(data)\n",
    "def read_directory(directory):\n",
    "    data = []\n",
    "    for filename in os.listdir(directory):\n",
    "        if filename.endswith('.txt'):\n",
    "            filename = directory + '/' + filename\n",
    "            temp = read_file(filename)\n",
    "            for t in temp: \n",
    "                data.append(t)\n",
    "    return(data)\n"
   ]
  },
  {
   "cell_type": "code",
   "execution_count": 3,
   "metadata": {
    "collapsed": true
   },
   "outputs": [],
   "source": [
    "def gen_graph(data):\n",
    "    G = nx.Graph()\n",
    "    for s in data:\n",
    "        prev_word = None\n",
    "        for word in s:\n",
    "            if not word in list(G.nodes):\n",
    "                G.add_node(word)\n",
    "            if prev_word:\n",
    "                if not (prev_word,word) in list(G.edges):\n",
    "                    G.add_edge(prev_word,word)\n",
    "            prev_word = word\n",
    "    cc = max(nx.connected_components(G), key = len)\n",
    "    return(G.subgraph(cc))\n",
    "def findResSet(T):\n",
    "    degs = T.degree()\n",
    "    root = 0\n",
    "    path = -1\n",
    "    for k in degs:\n",
    "        if k[1] > 1: root = k[0]\n",
    "        if k[1] > 2:\n",
    "            path = -1\n",
    "            break\n",
    "        if k[1] <= 1: path = k[0]\n",
    "    if path != -1: return ({}, [path])\n",
    "\n",
    "    (L, um, _) = partitionLeaves(T, node=root)\n",
    "    R = []\n",
    "    for h in L:\n",
    "        if len(L[h]) > 0:\n",
    "            i = np.random.choice(len(L[h]))\n",
    "            R.extend(L[h][:i] + L[h][i+1:])\n",
    "    return (L, R)\n",
    "\n",
    "def partitionLeaves(T, node=0,  parent=-1):\n",
    "    (marked, unmarked, last) = ({}, [], -1)\n",
    "    N = T.degree(node)\n",
    "    if N == 1: return (marked, [node], last)\n",
    "    if N >= 3:\n",
    "        marked[node] = []\n",
    "        last = node\n",
    "    children = [n for n in T.neighbors(node) if n!=parent]\n",
    "    for child in children:\n",
    "        (m, um, l) = partitionLeaves(T, node=child, parent=node)\n",
    "        marked.update(m)\n",
    "        if len(um) > 0 and N >= 3: marked[node].extend(um)\n",
    "        else:\n",
    "            unmarked.extend(um)\n",
    "            last = l \n",
    "    if len(unmarked) > 0 and last != -1: marked[last].extend(unmarked)\n",
    "    return (marked, unmarked, last)"
   ]
  },
  {
   "cell_type": "code",
   "execution_count": null,
   "metadata": {
    "collapsed": true
   },
   "outputs": [],
   "source": [
    "def reduce_set(G,R):\n",
    "    for r in R:\n",
    "        "
   ]
  },
  {
   "cell_type": "code",
   "execution_count": 6,
   "metadata": {
    "collapsed": true
   },
   "outputs": [],
   "source": [
    "directory = \"test_files\"\n",
    "data = read_directory(directory)\n",
    "G = gen_graph(data)"
   ]
  },
  {
   "cell_type": "code",
   "execution_count": null,
   "metadata": {},
   "outputs": [
    {
     "name": "stdout",
     "output_type": "stream",
     "text": [
      "made matrix\n",
      "Top of while loop\n"
     ]
    }
   ],
   "source": [
    "results = approxGraphMetricDim(G, name = 'test1', procs = 8)"
   ]
  },
  {
   "cell_type": "code",
   "execution_count": 91,
   "metadata": {
    "collapsed": true
   },
   "outputs": [],
   "source": [
    "def gen_keywordValues(data):\n",
    "    sentences = re.split('\\.|\\?|!', data)\n",
    "    bi_graph = nx.Graph()\n",
    "    word_list = []\n",
    "    for i,sentence in enumerate(sentences):\n",
    "        words = re.split('\\W+', sentence)\n",
    "        for word in words:\n",
    "            if word not in word_list:\n",
    "                word_list.append(word)\n",
    "    \n",
    "    W = np.zeros((len(sentences), len(word_list)))\n",
    "    for i,sentence in enumerate(sentences):\n",
    "        words = re.split('\\W+', sentence)\n",
    "        for word in words:\n",
    "            W[i][word_list.index(word)] = W[i][word_list.index(word)]+1\n",
    "    return(W,sentences,word_list)\n",
    "\n",
    "def keyword_extraction(data, t = 5, k = 2):\n",
    "    W,sentences,word_list = gen_keywordValues(data)\n",
    "    u,s,v = svd(W)\n",
    "    index = np.argmax(s)\n",
    "    u = u[:,index]\n",
    "    v = v[index,:]\n",
    "    if all(i <= 0 for i in u): u = u*-1\n",
    "    if all(i <= 0 for i in v): v = v*-1\n",
    "    u_ind = np.argsort(u)\n",
    "    v_ind = np.argsort(v)\n",
    "    \n",
    "    return(([(word_list[w], u[w]) for w in u_ind[0:t]], [(sentences[w], v[w]) for w in v_ind[0:k]]))\n",
    "        \n",
    "        "
   ]
  },
  {
   "cell_type": "code",
   "execution_count": 92,
   "metadata": {},
   "outputs": [
    {
     "name": "stdout",
     "output_type": "stream",
     "text": [
      "[ 0.01661915  0.017224    0.01683465 ...,  0.01705087  0.01794454\n",
      "  0.01581579]\n"
     ]
    }
   ],
   "source": [
    "with open('test_files/2030.txt', 'r') as f:\n",
    "    data = f.read()\n",
    "    data = data.lower()\n",
    "results = keyword_extraction(data)\n"
   ]
  },
  {
   "cell_type": "code",
   "execution_count": 93,
   "metadata": {},
   "outputs": [
    {
     "name": "stdout",
     "output_type": "stream",
     "text": [
      "([('spice', -0.0), ('guessing', 2.70124659345712e-07), ('generic', 4.8365044167903869e-06), ('dine', 4.8365044167903869e-06), ('bucks', 4.8365044167903869e-06)], [('  waitress lisa suggested trout', -0.0), ('', 2.4906463858808536e-07)])\n"
     ]
    }
   ],
   "source": [
    "print(results)"
   ]
  },
  {
   "cell_type": "code",
   "execution_count": 11,
   "metadata": {
    "collapsed": true
   },
   "outputs": [],
   "source": [
    "directory = \"test_files\"\n",
    "data = read_directory(directory)\n",
    "G = gen_graph(data)\n"
   ]
  },
  {
   "cell_type": "code",
   "execution_count": 12,
   "metadata": {
    "collapsed": true
   },
   "outputs": [],
   "source": [
    "tree = nx.maximum_spanning_tree(G)"
   ]
  },
  {
   "cell_type": "code",
   "execution_count": 14,
   "metadata": {},
   "outputs": [
    {
     "data": {
      "image/png": "[encoded data removed]",
      "text/plain": [
       "<matplotlib.figure.Figure at 0x1c23c549eb8>"
      ]
     },
     "metadata": {},
     "output_type": "display_data"
    }
   ],
   "source": [
    "nx.draw(tree)\n",
    "plt.show()"
   ]
  },
  {
   "cell_type": "code",
   "execution_count": 12,
   "metadata": {},
   "outputs": [
    {
     "data": {
      "image/png": "[encoded data removed]",
      "text/plain": [
       "<matplotlib.figure.Figure at 0x1cfe67f6eb8>"
      ]
     },
     "metadata": {},
     "output_type": "display_data"
    }
   ],
   "source": []
  },
  {
   "cell_type": "code",
   "execution_count": 15,
   "metadata": {},
   "outputs": [
    {
     "name": "stdout",
     "output_type": "stream",
     "text": [
      "3843\n",
      "2450\n"
     ]
    }
   ],
   "source": [
    "print(len(G.nodes))\n",
    "print(len(R))"
   ]
  },
  {
   "cell_type": "code",
   "execution_count": null,
   "metadata": {
    "collapsed": true
   },
   "outputs": [],
   "source": []
  }
 ],
 "metadata": {
  "kernelspec": {
   "display_name": "Python 3",
   "language": "python",
   "name": "python3"
  },
  "language_info": {
   "codemirror_mode": {
    "name": "ipython",
    "version": 3
   },
   "file_extension": ".py",
   "mimetype": "text/x-python",
   "name": "python",
   "nbconvert_exporter": "python",
   "pygments_lexer": "ipython3",
   "version": "3.6.3"
  }
 },
 "nbformat": 4,
 "nbformat_minor": 2
}
