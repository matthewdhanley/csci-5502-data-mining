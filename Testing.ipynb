{
 "cells": [
  {
   "cell_type": "code",
   "execution_count": null,
   "metadata": {
    "collapsed": true
   },
   "outputs": [],
   "source": [
    "import networkx as nx\n",
    "import re\n",
    "import matplotlib.pyplot as plt\n",
    "from networkx.drawing.nx_agraph import graphviz_layout\n",
    "import os\n",
    "import numpy as np\n",
    "import pandas as pd\n",
    "from networkx.algorithms.shortest_paths.generic import shortest_path_length"
   ]
  },
  {
   "cell_type": "code",
   "execution_count": null,
   "metadata": {
    "collapsed": true
   },
   "outputs": [],
   "source": [
    "def read_file(filename):\n",
    "    with open(filename, 'r') as f:\n",
    "        doc = f.read()\n",
    "        sentences = re.split('\\.|\\?|!', doc)\n",
    "    data = [];\n",
    "    for s in sentences:\n",
    "        temp = re.split('\\W+',s)\n",
    "        temp = list(filter(lambda a: a != '', temp))\n",
    "        temp = [t.lower() for t in temp]\n",
    "        data.append(temp)\n",
    "    return(data)\n",
    "def read_directory(directory):\n",
    "    data = []\n",
    "    for filename in os.listdir(directory):\n",
    "        if filename.endswith('.txt'):\n",
    "            filename = directory + '/' + filename\n",
    "            temp = read_file(filename)\n",
    "            for t in temp: \n",
    "                data.append(t)\n",
    "    return(data)\n"
   ]
  },
  {
   "cell_type": "code",
   "execution_count": null,
   "metadata": {
    "collapsed": true
   },
   "outputs": [],
   "source": [
    "def gen_graph(data):\n",
    "    G = nx.Graph()\n",
    "    for s in data:\n",
    "        prev_word = None\n",
    "        for word in s:\n",
    "            if not word in list(G.nodes):\n",
    "                G.add_node(word)\n",
    "            if prev_word:\n",
    "                if not (prev_word,word) in list(G.edges):\n",
    "                    G.add_edge(prev_word,word)\n",
    "            prev_word = word\n",
    "    return(G)\n",
    "def findResSet(T):\n",
    "    degs = T.degree()\n",
    "    root = 0\n",
    "    path = -1\n",
    "    for k in degs:\n",
    "        if k[1] > 1: root = k[0]\n",
    "        if k[1] > 2:\n",
    "            path = -1\n",
    "            break\n",
    "        if k[1] <= 1: path = k[0]\n",
    "    if path != -1: return ({}, [path])\n",
    "\n",
    "    (L, um, _) = partitionLeaves(T, node=root)\n",
    "    R = []\n",
    "    for h in L:\n",
    "        if len(L[h]) > 0:\n",
    "            i = np.random.choice(len(L[h]))\n",
    "            R.extend(L[h][:i] + L[h][i+1:])\n",
    "    return (L, R)\n",
    "\n",
    "def partitionLeaves(T, node=0,  parent=-1):\n",
    "    (marked, unmarked, last) = ({}, [], -1)\n",
    "    N = T.degree(node)\n",
    "    if N == 1: return (marked, [node], last)\n",
    "    if N >= 3:\n",
    "        marked[node] = []\n",
    "        last = node\n",
    "    children = [n for n in T.neighbors(node) if n!=parent]\n",
    "    for child in children:\n",
    "        (m, um, l) = partitionLeaves(T, node=child, parent=node)\n",
    "        marked.update(m)\n",
    "        if len(um) > 0 and N >= 3: marked[node].extend(um)\n",
    "        else:\n",
    "            unmarked.extend(um)\n",
    "            last = l \n",
    "    if len(unmarked) > 0 and last != -1: marked[last].extend(unmarked)\n",
    "    return (marked, unmarked, last)\n",
    "def distanceMatrix(G):\n",
    "    keys = list(G.nodes)\n",
    "    dist_mat = pd.DataFrame()"
   ]
  },
  {
   "cell_type": "code",
   "execution_count": null,
   "metadata": {
    "collapsed": true
   },
   "outputs": [],
   "source": [
    "directory = \"test_files\"\n",
    "data = read_directory(directory)\n",
    "G = gen_graph(data)\n"
   ]
  },
  {
   "cell_type": "code",
   "execution_count": null,
   "metadata": {
    "collapsed": true
   },
   "outputs": [],
   "source": [
    "tree = nx.minimum_spanning_tree(G)"
   ]
  },
  {
   "cell_type": "code",
   "execution_count": null,
   "metadata": {},
   "outputs": [],
   "source": [
    "(L, R) = findResSet(tree)\n",
    "print(L)"
   ]
  },
  {
   "cell_type": "code",
   "execution_count": null,
   "metadata": {},
   "outputs": [],
   "source": [
    "print(R)"
   ]
  },
  {
   "cell_type": "code",
   "execution_count": null,
   "metadata": {},
   "outputs": [],
   "source": [
    "nx.draw(G)\n",
    "plt.show()"
   ]
  },
  {
   "cell_type": "code",
   "execution_count": null,
   "metadata": {},
   "outputs": [],
   "source": [
    "data = [['hello', 'i', 'am', 'busy', 'with', 'school'], ['who', 'am', 'i', 'meeting', 'today']]\n",
    "temp = gen_graph(data)\n",
    "nx.draw(temp, with_labels = True)\n",
    "plt.show()"
   ]
  },
  {
   "cell_type": "code",
   "execution_count": null,
   "metadata": {},
   "outputs": [],
   "source": [
    "print(len(G.nodes))\n",
    "print(len(R))"
   ]
  },
  {
   "cell_type": "code",
   "execution_count": null,
   "metadata": {
    "collapsed": true
   },
   "outputs": [],
   "source": []
  }
 ],
 "metadata": {
  "kernelspec": {
   "display_name": "Python 3",
   "language": "python",
   "name": "python3"
  },
  "language_info": {
   "codemirror_mode": {
    "name": "ipython",
    "version": 3
   },
   "file_extension": ".py",
   "mimetype": "text/x-python",
   "name": "python",
   "nbconvert_exporter": "python",
   "pygments_lexer": "ipython3",
   "version": "3.6.3"
  }
 },
 "nbformat": 4,
 "nbformat_minor": 2
}
