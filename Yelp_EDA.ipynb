{
 "cells": [
  {
   "cell_type": "markdown",
   "metadata": {},
   "source": [
    "# Yelp Dataset Exploritory Data Analysis\n",
    "\n",
    "## Business Dataset\n",
    "Looking at the business dataset, I begin with the following questions:\n",
    "- [How many businesses are there in Las Vegas](#numRestaurants)\n",
    "- [Opening/Closing times](#openClose)\n",
    "- [Basic stats about the stars](#starData)\n",
    " - STD\n",
    " - Mean\n",
    " - Mode\n",
    " - Median\n",
    "- [Attributes](#attributes)\n",
    "- [Closed Businesses](#closed)\n",
    "- Is there a correlation between stars and price-range\n"
   ]
  },
  {
   "cell_type": "code",
   "execution_count": null,
   "metadata": {},
   "outputs": [],
   "source": [
    "import pandas as pd\n",
    "import numpy as np\n",
    "from pprint import pprint\n",
    "import matplotlib.pyplot as plt\n",
    "import json\n",
    "import re\n",
    "from scipy import stats"
   ]
  },
  {
   "cell_type": "code",
   "execution_count": null,
   "metadata": {},
   "outputs": [],
   "source": [
    "def make_pie(labels, count, explode_label='',t=''):\n",
    "    \n",
    "    explode = np.zeros(len(labels))\n",
    "\n",
    "    if explode_label != '':\n",
    "        explode_index = labels.index(explode_label)\n",
    "        explode[explode_index] = 0.1\n",
    "\n",
    "    # Plot\n",
    "    plt.pie(count, explode=explode, labels=labels,\n",
    "            autopct='%1.1f%%', shadow=True, startangle=140)\n",
    "    plt.title(t)\n",
    "    plt.axis('equal')\n",
    "    plt.show()\n",
    "    \n",
    "    \n",
    "def dict_to_pies(d_true, d_false):\n",
    "    for key in d_true.keys():\n",
    "        if key not in d_false.keys():\n",
    "            # need key in both true and false otherwise results won't make sense\n",
    "            continue\n",
    "        if isinstance(d_true[key],dict):\n",
    "            dict_to_pies(d_true[key], d_false[key])\n",
    "        else:\n",
    "            labels = ['True','False']\n",
    "            values = [d_true[key],d_false[key]]\n",
    "            make_pie(labels, values, t=key)\n",
    "        \n",
    "    \n",
    "def make_bar(labels, count, t=\"\", yl=\"\", xl=\"\"):\n",
    "    y_pos = np.arange(len(labels))\n",
    "\n",
    "    plt.bar(y_pos, count, align='center', alpha=0.5)\n",
    "    plt.xticks(y_pos, labels)\n",
    "    plt.ylabel(yl)\n",
    "    plt.xlabel(xl)\n",
    "    plt.title(t)\n",
    "\n",
    "    plt.show()"
   ]
  },
  {
   "cell_type": "markdown",
   "metadata": {},
   "source": [
    "<a id=\"numRestaurants\"></a>\n",
    "## Number of Restaurants in Las Vegas"
   ]
  },
  {
   "cell_type": "code",
   "execution_count": null,
   "metadata": {},
   "outputs": [],
   "source": [
    "# load in the file\n",
    "business_file = 'yelp_dataset\\\\csv\\\\cities\\\\business_las_vegas.csv'\n",
    "business_data = pd.read_csv(business_file)\n",
    "\n",
    "# strip the entries that don't have anything in the categories subset.\n",
    "business_data_clean_categories = business_data.dropna(subset=['categories'])\n",
    "\n",
    "# grab all the frames with \"Restaurants\" category\n",
    "restaurant_df = business_data_clean_categories[business_data_clean_categories['categories'].str.contains('Restaurants')]\n",
    "\n",
    "nRestaurants = restaurant_df.shape[0]\n",
    "print(\"There are %d restaurants in the file.\" % nRestaurants)"
   ]
  },
  {
   "cell_type": "markdown",
   "metadata": {},
   "source": [
    "<a id=\"openClose\"></a>\n",
    "## Opening and Closing Times"
   ]
  },
  {
   "cell_type": "code",
   "execution_count": null,
   "metadata": {},
   "outputs": [],
   "source": [
    "hours = restaurant_df['hours']\n",
    "hours = hours.dropna()\n",
    "hours_dict_open = {'Monday':{},'Tuesday':{},'Wednesday':{},'Thursday':{},'Friday':{},'Saturday':{},'Sunday':{}}\n",
    "hours_dict_close = {'Monday':{},'Tuesday':{},'Wednesday':{},'Thursday':{},'Friday':{},'Saturday':{},'Sunday':{}}\n",
    "\n",
    "for row in hours:\n",
    "    json_hours = row.replace(\"'\", \"\\\"\")\n",
    "    d = json.loads(json_hours)\n",
    "    \n",
    "    for key in d:\n",
    "        times = d[key].split('-')\n",
    "        _open = times[0].split(':')[0]\n",
    "        _close = times[1].split(':')[0]\n",
    "        \n",
    "        if _open in hours_dict_open[key]:\n",
    "            hours_dict_open[key][_open] += 1\n",
    "        else:\n",
    "            hours_dict_open[key][_open] = 1\n",
    "            \n",
    "        if _close in hours_dict_close[key]:\n",
    "            hours_dict_close[key][_close] += 1\n",
    "        else:\n",
    "            hours_dict_close[key][_close] = 1\n",
    "            \n",
    "for key in hours_dict_close:\n",
    "    keys_sorted_open = list(hours_dict_open[key].keys())\n",
    "    keys_sorted_open.sort(key=int)\n",
    "    values_sorted_open = [x for _,x in sorted(zip(list(hours_dict_open[key].keys()),list(hours_dict_open[key].values())))]\n",
    "    make_bar(keys_sorted_open,values_sorted_open,t=\"Opening Time on \"+key,xl=\"Hour of Day\",yl=\"# of Restaurants\")\n",
    "    \n",
    "    keys_sorted_close = list(hours_dict_close[key].keys())\n",
    "    keys_sorted_close.sort(key=int)\n",
    "    values_sorted_close = [x for _,x in sorted(zip(list(hours_dict_close[key].keys()),list(hours_dict_close[key].values())))]\n",
    "    make_bar(keys_sorted_close,values_sorted_close,t=\"Closing Time on \"+key,xl=\"Hour of Day\",yl=\"# of Restaurants\")"
   ]
  },
  {
   "cell_type": "markdown",
   "metadata": {},
   "source": [
    "<a id=\"starData\"></a>\n",
    "## Star Data"
   ]
  },
  {
   "cell_type": "code",
   "execution_count": null,
   "metadata": {},
   "outputs": [],
   "source": [
    "stars = restaurant_df['stars'].values\n",
    "print(\"Average:            %f\" % stars.mean())\n",
    "print(\"Standard Deviation: %f\"% stars.std())\n",
    "print(\"Mode:               %f\" % stats.mode(stars)[0][0])\n",
    "print(\"Median:             %f\" % np.median(stars))\n",
    "\n",
    "plt.hist(stars, bins=9,density=1,alpha=0.75)\n",
    "plt.ylabel('% of Restaurants')\n",
    "plt.xlabel(\"Number of Stars\")\n",
    "plt.title(\"Stars for Restaurants\")\n",
    "plt.grid(True)\n",
    "plt.show()"
   ]
  },
  {
   "cell_type": "markdown",
   "metadata": {},
   "source": [
    "<a id=\"attributes\"></a>\n",
    "## Attributes\n",
    "This section compiles the attributes into two dictionaries. `att_dict` contains all the \"True\" counts aggregated on the attribute types. `att_dict_compliment` holds all the false counts. `att_dict_compliment` is needed because sometimes restaurants don't have 'True' or 'False' listed for a specific attribute, and assuming it to be 'False' would be incorrect."
   ]
  },
  {
   "cell_type": "code",
   "execution_count": null,
   "metadata": {},
   "outputs": [],
   "source": [
    "attributes = restaurant_df['attributes']\n",
    "attributes = attributes.dropna()\n",
    "att_dict = {}\n",
    "att_dict_compliment = {}\n",
    "\n",
    "for att in attributes:\n",
    "    try:\n",
    "        json_attributes = att.replace(\"'\", \"\\\"\")\n",
    "    except AttributeError as e:\n",
    "        print(att)\n",
    "        raise e\n",
    "    json_attributes = json_attributes.replace(': True',': \"True\"')\n",
    "    json_attributes = json_attributes.replace(': False',': \\\"False\\\"')\n",
    "    json_attributes = json_attributes.replace('\"{','{')\n",
    "    json_attributes = json_attributes.replace('}\"','}')\n",
    "\n",
    "    d=json.loads(json_attributes)\n",
    "    for key in d:\n",
    "        if isinstance(d[key],dict):\n",
    "            if key not in att_dict.keys():\n",
    "                att_dict[key] = {}\n",
    "                att_dict_compliment[key] = {}\n",
    "            for subkey in d[key]:\n",
    "                if d[key][subkey] == 'True':\n",
    "                    add_num = 1\n",
    "                    add_num_compliment = 0\n",
    "                elif d[key][subkey] == 'False':\n",
    "                    add_num = 0\n",
    "                    add_num_compliment = 1\n",
    "                else:\n",
    "                    raise KeyError\n",
    "                if subkey in att_dict[key].keys():\n",
    "                    att_dict[key][subkey] += add_num\n",
    "                    att_dict_compliment[key][subkey] += add_num_compliment\n",
    "                else:\n",
    "                    att_dict[key][subkey] = add_num\n",
    "                    att_dict_compliment[key][subkey] = add_num_compliment\n",
    "        else:\n",
    "            add_num = -1\n",
    "            if d[key] == 'True':\n",
    "                add_num = 1\n",
    "                add_num_compliment = 0\n",
    "            elif d[key] == 'False':\n",
    "                add_num = 0\n",
    "                add_num_compliment = 1\n",
    "            else:\n",
    "                add_num = d[key]\n",
    "                            \n",
    "            if type(add_num) == str:\n",
    "                if key not in att_dict.keys():\n",
    "                    att_dict[key] = {}\n",
    "                if add_num in att_dict[key].keys():\n",
    "                    att_dict[key][add_num] += 1\n",
    "                else:\n",
    "                    att_dict[key][add_num] = 1\n",
    "            else:\n",
    "                if key not in att_dict.keys():\n",
    "                    att_dict[key] = add_num\n",
    "                    att_dict_compliment[key] = add_num_compliment\n",
    "                else:\n",
    "                    att_dict[key] += add_num\n",
    "                    att_dict_compliment[key] += add_num_compliment\n",
    "\n",
    "# ======== UNCOMMENT TO PRINT THE ACTUAL NUMBERS ==============================\n",
    "pprint(att_dict)                   \n",
    "pprint(att_dict_compliment)\n",
    "\n",
    "# ======== UNCOMMENT TO SEE BINARY PIE CHARTS =================================\n",
    "dict_to_pies(att_dict, att_dict_compliment)\n",
    "        \n",
    "\n",
    "# ambience_labels = att_dict['Ambience'].keys()\n",
    "# ambience_counts_true = att_dict['Ambience'].values()    \n",
    "# ambience_counts_false = att_dict_compliment['Ambience'].values()\n",
    "\n",
    "\n",
    "# make_pie(ambience_labels, ambience_counts_true,t='Ambience True Counts')\n",
    "# make_pie(ambience_labels, ambience_counts_false,t='Ambience False Counts')"
   ]
  },
  {
   "cell_type": "markdown",
   "metadata": {},
   "source": [
    "<a id=\"closed\"></a>\n",
    "## Businesses Open vs. Closed\n",
    "Finding the number of businesses that are still open."
   ]
  },
  {
   "cell_type": "code",
   "execution_count": null,
   "metadata": {},
   "outputs": [],
   "source": [
    "is_open = restaurant_df[['is_open','stars','review_count']].values\n",
    "num = len(is_open[:,0])\n",
    "closed = num - np.count_nonzero(is_open[:,0])\n",
    "print(\"percent closed: %f\" % (closed/num*100))"
   ]
  },
  {
   "cell_type": "code",
   "execution_count": null,
   "metadata": {},
   "outputs": [],
   "source": [
    "average_closed = is_open[:,1][np.where(is_open[:,0] == 0)].mean()\n",
    "average_review_ct_closed = is_open[:,2][np.where(is_open[:,0] == 0)].mean()\n",
    "\n",
    "print(\"Average stars for closed restaurants: %f\" % average_closed)\n",
    "print(\"Average review count for closed restaurants: %f\" % average_review_ct_closed)\n",
    "\n",
    "\n",
    "average_open = is_open[:,1][np.where(is_open[:,0] == 1)].mean()\n",
    "average_review_ct_open = is_open[:,2][np.where(is_open[:,0] == 1)].mean()\n",
    "\n",
    "print(\"\\nAverage stars for open restaurants: %f\" % average_open)\n",
    "print(\"Average review count for open restaurants: %f\" % average_review_ct_open)\n"
   ]
  },
  {
   "cell_type": "code",
   "execution_count": null,
   "metadata": {},
   "outputs": [],
   "source": [
    "restaurant_df"
   ]
  },
  {
   "cell_type": "code",
   "execution_count": null,
   "metadata": {},
   "outputs": [],
   "source": []
  }
 ],
 "metadata": {
  "kernelspec": {
   "display_name": "Python 3",
   "language": "python",
   "name": "python3"
  },
  "language_info": {
   "codemirror_mode": {
    "name": "ipython",
    "version": 3
   },
   "file_extension": ".py",
   "mimetype": "text/x-python",
   "name": "python",
   "nbconvert_exporter": "python",
   "pygments_lexer": "ipython3",
   "version": "3.6.5"
  }
 },
 "nbformat": 4,
 "nbformat_minor": 2
}
